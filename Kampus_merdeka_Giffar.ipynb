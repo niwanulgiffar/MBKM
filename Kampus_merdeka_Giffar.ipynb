{
  "nbformat": 4,
  "nbformat_minor": 0,
  "metadata": {
    "colab": {
      "provenance": []
    },
    "kernelspec": {
      "name": "python3",
      "display_name": "Python 3"
    },
    "language_info": {
      "name": "python"
    }
  },
  "cells": [
    {
      "cell_type": "code",
      "source": [
        "odd=[x for x in range(1,100+1) if x %2!=0] #membuat list bilangan ganjil dari 1 sampai 100\n",
        "squares=[x**2 for x in odd]\n",
        "total=sum(squares)\n",
        "ratarata=total/len(squares)\n",
        "print(total)\n",
        "print(ratarata)"
      ],
      "metadata": {
        "id": "Q4MNFOHXqdJJ",
        "colab": {
          "base_uri": "https://localhost:8080/"
        },
        "outputId": "2c0e7be4-56f2-4eec-895e-a65a67227fff"
      },
      "execution_count": null,
      "outputs": [
        {
          "output_type": "stream",
          "name": "stdout",
          "text": [
            "166650\n",
            "3333.0\n"
          ]
        }
      ]
    },
    {
      "cell_type": "code",
      "source": [
        "even=[x for x in range(1,100+1) if x %2==0] #membuat list bilangan genapdari 1 sampai 100\n",
        "squares=[x**2 for x in even]\n",
        "total=sum(squares)\n",
        "mean=total/len(squares)\n",
        "print(total)\n",
        "print(mean)"
      ],
      "metadata": {
        "colab": {
          "base_uri": "https://localhost:8080/"
        },
        "id": "czcsu6lLywOR",
        "outputId": "6219d638-9e43-4417-8c1d-956f8ad7dba2"
      },
      "execution_count": null,
      "outputs": [
        {
          "output_type": "stream",
          "name": "stdout",
          "text": [
            "171700\n",
            "3434.0\n"
          ]
        }
      ]
    },
    {
      "cell_type": "code",
      "source": [
        "a = int(input(\"masukan a= \"))\n",
        "if a<100: #conditional form\n",
        "    print('small value')\n",
        "else:\n",
        "    print('big value')"
      ],
      "metadata": {
        "colab": {
          "base_uri": "https://localhost:8080/"
        },
        "id": "oMiZmOEoncOi",
        "outputId": "5c09cfcc-3161-441b-b7bf-a2ee1bd5652b"
      },
      "execution_count": null,
      "outputs": [
        {
          "output_type": "stream",
          "name": "stdout",
          "text": [
            "masukan a= 3\n",
            "small value\n"
          ]
        }
      ]
    },
    {
      "cell_type": "code",
      "source": [
        "a =  7\n",
        "b = 8\n",
        "c = 5\n",
        "\n",
        "perhitungan = (a+b)/c\n",
        "print(\"Hasil perhitungan :\", perhitungan)\n",
        "if perhitungan < 10:\n",
        "  print(\"small value\")\n",
        "else:\n",
        "  print(\"Big value\")\n",
        "\n"
      ],
      "metadata": {
        "colab": {
          "base_uri": "https://localhost:8080/"
        },
        "id": "Ezd9ZK5vlkI9",
        "outputId": "ca1cf2b1-6060-4384-9063-263254065832"
      },
      "execution_count": null,
      "outputs": [
        {
          "output_type": "stream",
          "name": "stdout",
          "text": [
            "Hasil perhitungan : 3.0\n",
            "small value\n"
          ]
        }
      ]
    },
    {
      "cell_type": "code",
      "source": [
        "#Perhitungan sederhana dengan if else\n",
        "a = float(input())\n",
        "b = float(input())\n",
        "operator = input(\"\")  # operator yang ingin digunakan (+, -, *, /)\n",
        "\n",
        "if operator == \"+\":\n",
        "    result = a + b\n",
        "    print(\"Hasil penjumlahan:\", result)\n",
        "elif operator == \"-\":\n",
        "    result = a - b\n",
        "    print(\"Hasil pengurangan:\", result)\n",
        "elif operator == \"*\":\n",
        "    result = a * b\n",
        "    print(\"Hasil perkalian:\", result)\n",
        "elif operator == \"/\":\n",
        "    if b != 0:\n",
        "        result = a / b\n",
        "        print(\"Hasil pembagian:\", result)\n",
        "    else:\n",
        "        print(\"Error: Pembagian oleh nol tidak diizinkan\")\n",
        "else:\n",
        "    print(\"Operator tidak valid\")\n"
      ],
      "metadata": {
        "colab": {
          "base_uri": "https://localhost:8080/"
        },
        "id": "c9f2619dnEx7",
        "outputId": "e4f7acce-7807-4b81-ad34-70cab3da4611"
      },
      "execution_count": null,
      "outputs": [
        {
          "output_type": "stream",
          "name": "stdout",
          "text": [
            "3\n",
            "4\n",
            "*\n",
            "Hasil perkalian: 12.0\n"
          ]
        }
      ]
    },
    {
      "cell_type": "code",
      "source": [
        "##if else untuk statistika sederhana (mean dan std deviasi)\n",
        "import math #untuk sqrt\n",
        "\n",
        "data = [50,56,61,65,70]\n",
        "count = len(data)\n",
        "total = sum(data)\n",
        "mean = total / count\n",
        "diff_squares = [(x - mean) ** 2 for x in data]\n",
        "sum_diff_squares = sum(diff_squares)\n",
        "variance = sum_diff_squares / count\n",
        "standard_deviation = math.sqrt(variance)\n",
        "\n",
        "if count > 0:\n",
        "    print(\"Jumlah data:\", count)\n",
        "    print(\"Total data:\", total)\n",
        "    print(\"Rata-rata data:\", mean)\n",
        "    print(\"Standar deviasi:\", standard_deviation)\n",
        "else:\n",
        "    print(\"Tidak ada data yang tersedia.\")"
      ],
      "metadata": {
        "colab": {
          "base_uri": "https://localhost:8080/"
        },
        "id": "hC1Nh2Rf0sm9",
        "outputId": "bfd27d42-b865-4912-9a51-ce32a764ab28"
      },
      "execution_count": null,
      "outputs": [
        {
          "output_type": "stream",
          "name": "stdout",
          "text": [
            "Jumlah data: 5\n",
            "Total data: 302\n",
            "Rata-rata data: 60.4\n",
            "Standar deviasi: 6.945502141674135\n"
          ]
        }
      ]
    },
    {
      "cell_type": "code",
      "source": [
        "#python uji t sederhana\n",
        "import numpy as np\n",
        "from scipy.stats import ttest_ind\n",
        "\n",
        "group1 = np.array([7,6,5,8,9])\n",
        "group2 = np.array([11,10,8,9,7])\n",
        "\n",
        "\n",
        "t_statistic, p_value = ttest_ind(group1, group2) #t-test independent\n",
        "\n",
        "print(\"T-Statistic:\", t_statistic)\n",
        "print(\"P-Value:\", p_value)\n",
        "\n",
        "if p_value < 0.05: #untuk lihat H0 ditolak atau gagal ditolak pada taraf signifikansi 5 persen\n",
        "  print(\"H0 ditolak\")\n",
        "else:\n",
        "  print(\"H0 Gagal ditolak\")"
      ],
      "metadata": {
        "colab": {
          "base_uri": "https://localhost:8080/"
        },
        "id": "KA8XQOpPXcP-",
        "outputId": "6597fa7d-e809-41d7-da8d-746173def808"
      },
      "execution_count": null,
      "outputs": [
        {
          "output_type": "stream",
          "name": "stdout",
          "text": [
            "T-Statistic: -2.0\n",
            "P-Value: 0.08051623795726257\n",
            "Ho Gagal ditolak\n"
          ]
        }
      ]
    },
    {
      "cell_type": "code",
      "source": [
        "while True:\n",
        "  a = int(input(\"masukan a= \"))\n",
        "  if a<100:\n",
        "    print('small value')\n",
        "  else:\n",
        "    print('big value')\n",
        "    break"
      ],
      "metadata": {
        "id": "fLY43qi9ofrJ",
        "colab": {
          "base_uri": "https://localhost:8080/"
        },
        "outputId": "64c12907-dbf7-496e-af05-9804e8250bf8"
      },
      "execution_count": null,
      "outputs": [
        {
          "output_type": "stream",
          "name": "stdout",
          "text": [
            "masukan a= 4\n",
            "small value\n"
          ]
        }
      ]
    },
    {
      "cell_type": "code",
      "source": [
        "pas= input(\"password= \")\n",
        "panjang=len(pas)>=5\n",
        "c8=\"8\" in pas\n",
        "cx= \"X\" in pas\n",
        "char=\"@\" in pas\n",
        "if panjang!=True:\n",
        "    print(\"terlalu pendek\")\n",
        "elif c8!=True:\n",
        "    print(\"harus mengandung 8\")\n",
        "elif cx!=True:\n",
        "    print(\"harus mengandng X\")\n",
        "elif char!=True:\n",
        "    print(\"harus mengandng @\")\n",
        "else:\n",
        "    print(\"password valid\")"
      ],
      "metadata": {
        "colab": {
          "base_uri": "https://localhost:8080/"
        },
        "id": "cj24khymFFdK",
        "outputId": "8d2578aa-bf7d-4b35-c546-0e9fbbdf9130"
      },
      "execution_count": null,
      "outputs": [
        {
          "output_type": "stream",
          "name": "stdout",
          "text": [
            "password= kampus merdeka x\n",
            "harus mengandung 8\n"
          ]
        }
      ]
    },
    {
      "cell_type": "code",
      "source": [
        "while True:\n",
        "    pas= input(\"password= \")\n",
        "    panjang=len(pas)>=5\n",
        "    c8=\"8\" in pas\n",
        "    cx= \"X\" in pas\n",
        "    char=\"@\" in pas\n",
        "    if panjang!=True:\n",
        "        print(\"terlalu pendek\")\n",
        "    elif c8!=True:\n",
        "        print(\"harus mengandung 8\")\n",
        "    elif cx!=True:\n",
        "        print(\"harus mengandng X\")\n",
        "    elif char!=True:\n",
        "        print(\"harus mengandng @\")\n",
        "    else:\n",
        "        print(\"password valid\")\n",
        "        break"
      ],
      "metadata": {
        "colab": {
          "base_uri": "https://localhost:8080/"
        },
        "id": "JQmpJWY8F6gU",
        "outputId": "974f670e-ac36-47da-a90c-8f2332bb6998"
      },
      "execution_count": null,
      "outputs": [
        {
          "output_type": "stream",
          "name": "stdout",
          "text": [
            "password= kampusX@8\n",
            "password valid\n"
          ]
        }
      ]
    },
    {
      "cell_type": "code",
      "source": [
        "#password 4 kali percobaan dengan looping for \n",
        "valid = False #nilai awal valid adalah false untuk melihat apa password yang diinput valid atau tidak\n",
        "\n",
        "for _ in range(4): \n",
        "    pas = input(\"password= \")\n",
        "    panjang = len(pas) >= 5\n",
        "    c8 = \"8\" in pas\n",
        "    cx = \"X\" in pas\n",
        "    char = \"@\" in pas\n",
        "    \n",
        "    if not panjang:\n",
        "        print(\"Terlalu pendek\")\n",
        "    elif not c8:\n",
        "        print(\"Harus mengandung 8\")\n",
        "    elif not cx:\n",
        "        print(\"Harus mengandung X\")\n",
        "    elif not char:\n",
        "        print(\"Harus mengandung @\")\n",
        "    else:\n",
        "        print(\"Password valid\")\n",
        "        valid = True\n",
        "        break\n",
        "\n",
        "if not valid:\n",
        "    print(\"Batas percobaan telah mencapai batas maksimal\")"
      ],
      "metadata": {
        "colab": {
          "base_uri": "https://localhost:8080/"
        },
        "id": "Pt_Jf9w7bbIH",
        "outputId": "e107faea-babb-4727-a706-a6878d0c975d"
      },
      "execution_count": null,
      "outputs": [
        {
          "output_type": "stream",
          "name": "stdout",
          "text": [
            "password= 7\n",
            "Terlalu pendek\n",
            "password= kampusX@8\n",
            "Password valid\n"
          ]
        }
      ]
    },
    {
      "cell_type": "code",
      "source": [
        "count=0\n",
        "contoh_list=['acc', 'xyz', 'aba', '1221']\n",
        "for i in range(len(contoh_list)):\n",
        "    if(contoh_list[i][0] == contoh_list[i][-1]): #jika karakter pertama dan karakter terakhir sama\n",
        "        count += 1\n",
        "print('jumlah string yg sama=',count)"
      ],
      "metadata": {
        "colab": {
          "base_uri": "https://localhost:8080/"
        },
        "id": "LOs66iMXqnR0",
        "outputId": "230b433f-51e6-4b29-a38f-da51feb6a34d"
      },
      "execution_count": null,
      "outputs": [
        {
          "output_type": "stream",
          "name": "stdout",
          "text": [
            "jumlah string yg sama= 2\n"
          ]
        }
      ]
    },
    {
      "cell_type": "code",
      "source": [
        "while True:\n",
        "    kata=input(\"masukan kata= \")\n",
        "    if kata == kata[::-1]:\n",
        "        print(\"string merupakan palidrom\")\n",
        "        break\n",
        "    else:\n",
        "        print(\"string bukan palidrom\")"
      ],
      "metadata": {
        "colab": {
          "base_uri": "https://localhost:8080/"
        },
        "id": "KIAz0YraGEJe",
        "outputId": "d1298e25-69e0-4e1b-8b16-edcdefca5b65"
      },
      "execution_count": null,
      "outputs": [
        {
          "output_type": "stream",
          "name": "stdout",
          "text": [
            "masukan kata= sayur\n",
            "string bukan palidrom\n",
            "masukan kata= ini\n",
            "string merupakan palidrom\n"
          ]
        }
      ]
    },
    {
      "cell_type": "code",
      "source": [
        "def hitung(s):\n",
        "    d={'upper':0,'lower':0}\n",
        "    for x in s:\n",
        "        if x.isupper():\n",
        "            d['upper']+=1\n",
        "        elif x.islower():\n",
        "            d['lower']+=1\n",
        "    print('string kalimat:', s)\n",
        "    print('jumlah huruf kapital:',d['upper'])\n",
        "    print('jumlah huruf kecil',d['lower'])\n",
        "hitung('aAsssSWWWJHSJ')"
      ],
      "metadata": {
        "id": "79-V6Hg-GzsE",
        "outputId": "647fc77d-7cc9-4110-e5d2-6bdc1e804994",
        "colab": {
          "base_uri": "https://localhost:8080/"
        }
      },
      "execution_count": null,
      "outputs": [
        {
          "output_type": "stream",
          "name": "stdout",
          "text": [
            "string kalimat: aAsssSWWWJHSJ\n",
            "jumlah huruf kapital: 9\n",
            "jumlah huruf kecil 4\n"
          ]
        }
      ]
    },
    {
      "cell_type": "code",
      "source": [
        "def ubah_ke_uppercase(text, capitalize=False):\n",
        "    if capitalize:\n",
        "        return text.capitalize()\n",
        "    else:\n",
        "        return text.upper()\n",
        "\n",
        "pilihan = input(\"Pilih upper atau capitalize: \")\n",
        "string = input(\"Masukkan string: \")\n",
        "\n",
        "if pilihan == \"capitalize\":\n",
        "    hasil = ubah_ke_uppercase(string, capitalize=True)\n",
        "    print(\"Hasil capitalize:\", hasil)\n",
        "elif pilihan == \"upper\":\n",
        "    hasil = ubah_ke_uppercase(string)\n",
        "    print(\"Hasil uppercase:\", hasil)\n",
        "else:\n",
        "    print(\"Pilihan tidak valid. Pilih upper atau capitalize.\")\n"
      ],
      "metadata": {
        "colab": {
          "base_uri": "https://localhost:8080/"
        },
        "id": "tJdvnmEqpB2w",
        "outputId": "64cf6198-5eeb-4f16-b8d3-4ac77e2ee633"
      },
      "execution_count": null,
      "outputs": [
        {
          "output_type": "stream",
          "name": "stdout",
          "text": [
            "Pilih upper atau capitalize: capitalize\n",
            "Masukkan string: aku\n",
            "Hasil capitalize: Aku\n"
          ]
        }
      ]
    },
    {
      "cell_type": "code",
      "source": [
        "#kode menghitung huruf kapital tapi loopingnya diubah jadi while\n",
        "def hitung(s):\n",
        "    d = {'upper': 0, 'lower': 0}\n",
        "    index = 0\n",
        "    while index < len(s):\n",
        "        if s[index].isupper():\n",
        "            d['upper'] += 1\n",
        "        elif s[index].islower():\n",
        "            d['lower'] += 1\n",
        "        index += 1\n",
        "    return d\n",
        "\n",
        "input_string = 'aAsssSWWWJHSJ'\n",
        "result = hitung(input_string)\n",
        "\n",
        "print('string kalimat:', input_string)\n",
        "print('jumlah huruf kapital:', result['upper'])\n",
        "print('jumlah huruf kecil:', result['lower'])"
      ],
      "metadata": {
        "colab": {
          "base_uri": "https://localhost:8080/"
        },
        "id": "q06LiBoRWHWk",
        "outputId": "02f0a9fd-4eee-418c-e50a-31d42186e81c"
      },
      "execution_count": null,
      "outputs": [
        {
          "output_type": "stream",
          "name": "stdout",
          "text": [
            "string kalimat: aAsssSWWWJHSJ\n",
            "jumlah huruf kapital: 9\n",
            "jumlah huruf kecil: 4\n"
          ]
        }
      ]
    },
    {
      "cell_type": "code",
      "source": [
        "#Kata ganjil\n",
        "list1=[\"ada\",\"sapa\",\"warga\",\"kanopi\",\"layang\",\"tamu\",\"kampus\"]\n",
        "for i in list1:\n",
        "    if len(i)%2==1:\n",
        "        print(i,end=\" \")"
      ],
      "metadata": {
        "colab": {
          "base_uri": "https://localhost:8080/"
        },
        "id": "CrkyyQgmGFJR",
        "outputId": "98ab9e32-2a06-4bec-db46-c1db4f0d7f28"
      },
      "execution_count": null,
      "outputs": [
        {
          "output_type": "stream",
          "name": "stdout",
          "text": [
            "ada warga "
          ]
        }
      ]
    },
    {
      "cell_type": "code",
      "source": [
        "#kata ganjil dengan while\n",
        "list1 = [\"ada\", \"sapa\", \"warga\", \"kanopi\", \"layang\", \"tamu\", \"kampus\"]\n",
        "index = 0\n",
        "\n",
        "while index < len(list1):\n",
        "    if len(list1[index]) % 2 == 1:\n",
        "        print(list1[index], end=\" \")\n",
        "    index += 1"
      ],
      "metadata": {
        "colab": {
          "base_uri": "https://localhost:8080/"
        },
        "id": "-jmFI_oXWWCR",
        "outputId": "5fe6ec6d-feb1-4ae7-ca85-7c2b7a7881ce"
      },
      "execution_count": null,
      "outputs": [
        {
          "output_type": "stream",
          "name": "stdout",
          "text": [
            "ada warga "
          ]
        }
      ]
    },
    {
      "cell_type": "code",
      "source": [
        "#kata genap\n",
        "list1=[\"ada\",\"sapa\",\"warga\",\"kanopi\",\"layang\",\"tamu\"]\n",
        "for i in list1:\n",
        "    if len(i)%2==0:\n",
        "        print(i,end=\" \")"
      ],
      "metadata": {
        "colab": {
          "base_uri": "https://localhost:8080/"
        },
        "id": "EolCEUTjsQSH",
        "outputId": "d61492b1-6e00-43d3-fae0-cdc5e6354bbf"
      },
      "execution_count": null,
      "outputs": [
        {
          "output_type": "stream",
          "name": "stdout",
          "text": [
            "sapa kanopi layang tamu "
          ]
        }
      ]
    },
    {
      "cell_type": "code",
      "source": [
        "#kata genap dengan while\n",
        "list1 = [\"ada\", \"sapa\", \"warga\", \"kanopi\", \"layang\", \"tamu\"]\n",
        "index = 0\n",
        "\n",
        "while index < len(list1):\n",
        "    if len(list1[index]) % 2 == 0:\n",
        "        print(list1[index], end=\" \")\n",
        "    index += 1"
      ],
      "metadata": {
        "colab": {
          "base_uri": "https://localhost:8080/"
        },
        "id": "e95ulp43XP8X",
        "outputId": "da061d3c-ecd8-4337-9943-2e8b61db50e1"
      },
      "execution_count": null,
      "outputs": [
        {
          "output_type": "stream",
          "name": "stdout",
          "text": [
            "sapa kanopi layang tamu "
          ]
        }
      ]
    }
  ]
}