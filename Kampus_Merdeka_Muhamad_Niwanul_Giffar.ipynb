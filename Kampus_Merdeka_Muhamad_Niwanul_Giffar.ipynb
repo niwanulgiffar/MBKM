{
  "nbformat": 4,
  "nbformat_minor": 0,
  "metadata": {
    "colab": {
      "provenance": [],
      "include_colab_link": true
    },
    "kernelspec": {
      "name": "python3",
      "display_name": "Python 3"
    },
    "language_info": {
      "name": "python"
    }
  },
  "cells": [
    {
      "cell_type": "markdown",
      "metadata": {
        "id": "view-in-github",
        "colab_type": "text"
      },
      "source": [
        "<a href=\"https://colab.research.google.com/github/niwanulgiffar/MBKM/blob/main/Kampus_Merdeka_Muhamad_Niwanul_Giffar.ipynb\" target=\"_parent\"><img src=\"https://colab.research.google.com/assets/colab-badge.svg\" alt=\"Open In Colab\"/></a>"
      ]
    },
    {
      "cell_type": "markdown",
      "source": [
        "Muhamad Niwanul Giffar (5551917)"
      ],
      "metadata": {
        "id": "PqaQvx2SPvFM"
      }
    },
    {
      "cell_type": "markdown",
      "source": [
        "Pada tugas ini selain beberapa sel koding yang sudah ada, saya membuat versi modifikasi pada sel koding baru (misal dengan mengganti jenis loopingnya dan modifikasi lainnya). Saya juga menambahkan koding baru seperti operasi matriks, uji hipotesis, operasi string, dan lain-lain."
      ],
      "metadata": {
        "id": "8hnvX1jUMGjc"
      }
    },
    {
      "cell_type": "code",
      "source": [
        "odd=[x for x in range(1,100+1) if x %2!=0] #membuat list bilangan ganjil dari 1 sampai 100\n",
        "squares=[x**2 for x in odd]\n",
        "total=sum(squares)\n",
        "ratarata=total/len(squares)\n",
        "print(total)\n",
        "print(ratarata)"
      ],
      "metadata": {
        "colab": {
          "base_uri": "https://localhost:8080/"
        },
        "outputId": "80e87194-1f3d-42b6-8150-d605951dc9b9",
        "id": "TaEmpaUTPuGL"
      },
      "execution_count": 1,
      "outputs": [
        {
          "output_type": "stream",
          "name": "stdout",
          "text": [
            "166650\n",
            "3333.0\n"
          ]
        }
      ]
    },
    {
      "cell_type": "code",
      "source": [
        "even=[x for x in range(1,100+1) if x %2==0] #membuat list bilangan genap dari 1 sampai 100\n",
        "squares=[x**2 for x in even]\n",
        "total=sum(squares)\n",
        "mean=total/len(squares)\n",
        "print(total)\n",
        "print(mean)"
      ],
      "metadata": {
        "colab": {
          "base_uri": "https://localhost:8080/"
        },
        "id": "czcsu6lLywOR",
        "outputId": "6b002e3d-88dc-4bcb-bf91-84ecbc99ae31"
      },
      "execution_count": 5,
      "outputs": [
        {
          "output_type": "stream",
          "name": "stdout",
          "text": [
            "171700\n",
            "3434.0\n"
          ]
        }
      ]
    },
    {
      "cell_type": "code",
      "source": [
        "a = int(input(\"masukan a= \"))\n",
        "if a<60: #conditional form\n",
        "    print('small value')\n",
        "else:\n",
        "    print('big value')"
      ],
      "metadata": {
        "colab": {
          "base_uri": "https://localhost:8080/"
        },
        "id": "oMiZmOEoncOi",
        "outputId": "28253b45-95df-48a7-b686-a61fb9a53add"
      },
      "execution_count": 6,
      "outputs": [
        {
          "output_type": "stream",
          "name": "stdout",
          "text": [
            "masukan a= 59\n",
            "small value\n"
          ]
        }
      ]
    },
    {
      "cell_type": "code",
      "source": [
        "a =  7\n",
        "b = 8\n",
        "c = 5\n",
        "\n",
        "perhitungan = (a+b)/c\n",
        "print(\"Hasil perhitungan :\", perhitungan)\n",
        "if perhitungan < 10:\n",
        "  print(\"small value\")\n",
        "else:\n",
        "  print(\"Big value\")\n",
        "\n"
      ],
      "metadata": {
        "colab": {
          "base_uri": "https://localhost:8080/"
        },
        "id": "Ezd9ZK5vlkI9",
        "outputId": "176d617b-556f-43f8-9001-206a2242dc30"
      },
      "execution_count": 7,
      "outputs": [
        {
          "output_type": "stream",
          "name": "stdout",
          "text": [
            "Hasil perhitungan : 3.0\n",
            "small value\n"
          ]
        }
      ]
    },
    {
      "cell_type": "code",
      "source": [
        "#Perhitungan sederhana dengan if else\n",
        "a = float(input())\n",
        "b = float(input())\n",
        "operator = input(\"\")  # operator yang ingin digunakan (+, -, *, /)\n",
        "\n",
        "if operator == \"+\":\n",
        "    result = a + b\n",
        "    print(\"Hasil penjumlahan:\", result)\n",
        "elif operator == \"-\":\n",
        "    result = a - b\n",
        "    print(\"Hasil pengurangan:\", result)\n",
        "elif operator == \"*\":\n",
        "    result = a * b\n",
        "    print(\"Hasil perkalian:\", result)\n",
        "elif operator == \"/\":\n",
        "    if b != 0:\n",
        "        result = a / b\n",
        "        print(\"Hasil pembagian:\", result)\n",
        "    else:\n",
        "        print(\"Error: Pembagian oleh nol tidak diizinkan\")\n",
        "else:\n",
        "    print(\"Operator tidak valid\")\n"
      ],
      "metadata": {
        "colab": {
          "base_uri": "https://localhost:8080/"
        },
        "id": "c9f2619dnEx7",
        "outputId": "943c9019-d01c-4053-852d-01433bdad397"
      },
      "execution_count": 10,
      "outputs": [
        {
          "output_type": "stream",
          "name": "stdout",
          "text": [
            "7\n",
            "2\n",
            "*\n",
            "Hasil perkalian: 14.0\n"
          ]
        }
      ]
    },
    {
      "cell_type": "code",
      "source": [
        "##if else untuk statistika sederhana (mean dan std deviasi)\n",
        "import math #untuk sqrt\n",
        "\n",
        "data = [50,56,61,65,70]\n",
        "count = len(data)\n",
        "total = sum(data)\n",
        "mean = total / count\n",
        "diff_squares = [(x - mean) ** 2 for x in data]\n",
        "sum_diff_squares = sum(diff_squares)\n",
        "variance = sum_diff_squares / count\n",
        "standard_deviation = math.sqrt(variance)\n",
        "\n",
        "if count > 0:\n",
        "    print(\"Jumlah data:\", count)\n",
        "    print(\"Total data:\", total)\n",
        "    print(\"Rata-rata data:\", mean)\n",
        "    print(\"Standar deviasi:\", standard_deviation)\n",
        "else:\n",
        "    print(\"Tidak ada data yang tersedia.\")"
      ],
      "metadata": {
        "colab": {
          "base_uri": "https://localhost:8080/"
        },
        "id": "hC1Nh2Rf0sm9",
        "outputId": "75c769b4-5d00-47eb-aaf8-ff669a2a40c7"
      },
      "execution_count": 11,
      "outputs": [
        {
          "output_type": "stream",
          "name": "stdout",
          "text": [
            "Jumlah data: 5\n",
            "Total data: 302\n",
            "Rata-rata data: 60.4\n",
            "Standar deviasi: 6.945502141674135\n"
          ]
        }
      ]
    },
    {
      "cell_type": "code",
      "source": [
        "#python uji t sederhana\n",
        "import numpy as np\n",
        "from scipy.stats import ttest_ind\n",
        "\n",
        "group1 = np.array([7,6,5,8,9])\n",
        "group2 = np.array([11,10,8,9,7])\n",
        "\n",
        "\n",
        "t_statistic, p_value = ttest_ind(group1, group2) #t-test independent\n",
        "\n",
        "print(\"T-Statistic:\", t_statistic)\n",
        "print(\"P-Value:\", p_value)\n",
        "\n",
        "if p_value < 0.05: #untuk lihat H0 ditolak atau gagal ditolak pada taraf signifikansi 5 persen\n",
        "  print(\"H0 ditolak\")\n",
        "else:\n",
        "  print(\"H0 Gagal ditolak\")"
      ],
      "metadata": {
        "colab": {
          "base_uri": "https://localhost:8080/"
        },
        "id": "KA8XQOpPXcP-",
        "outputId": "059251d7-7642-4820-b8b7-e24efd6f083c"
      },
      "execution_count": 12,
      "outputs": [
        {
          "output_type": "stream",
          "name": "stdout",
          "text": [
            "T-Statistic: -2.0\n",
            "P-Value: 0.08051623795726257\n",
            "H0 Gagal ditolak\n"
          ]
        }
      ]
    },
    {
      "cell_type": "code",
      "source": [
        "while True:\n",
        "  a = int(input(\"masukan a= \"))\n",
        "  if a<60:\n",
        "    print('small value')\n",
        "  else:\n",
        "    print('big value')\n",
        "    break"
      ],
      "metadata": {
        "id": "fLY43qi9ofrJ",
        "colab": {
          "base_uri": "https://localhost:8080/"
        },
        "outputId": "48c7ec95-5803-4584-e7a7-bfe2f3aaf569"
      },
      "execution_count": 13,
      "outputs": [
        {
          "output_type": "stream",
          "name": "stdout",
          "text": [
            "masukan a= 61\n",
            "big value\n"
          ]
        }
      ]
    },
    {
      "cell_type": "code",
      "source": [
        "pas= input(\"password= \")\n",
        "panjang=len(pas)>=5\n",
        "c8=\"8\" in pas\n",
        "cx= \"X\" in pas\n",
        "char=\"@\" in pas\n",
        "if panjang!=True:\n",
        "    print(\"terlalu pendek\")\n",
        "elif c8!=True:\n",
        "    print(\"harus mengandung 8\")\n",
        "elif cx!=True:\n",
        "    print(\"harus mengandng X\")\n",
        "elif char!=True:\n",
        "    print(\"harus mengandng @\")\n",
        "else:\n",
        "    print(\"password valid\")"
      ],
      "metadata": {
        "colab": {
          "base_uri": "https://localhost:8080/"
        },
        "id": "cj24khymFFdK",
        "outputId": "87a824b2-c611-4ec2-d1f2-49e59a2d4698"
      },
      "execution_count": null,
      "outputs": [
        {
          "output_type": "stream",
          "name": "stdout",
          "text": [
            "password= kampusX@8\n",
            "password valid\n"
          ]
        }
      ]
    },
    {
      "cell_type": "code",
      "source": [
        "while True:\n",
        "    pas= input(\"password= \")\n",
        "    panjang=len(pas)>=5\n",
        "    c8=\"6\" in pas\n",
        "    cx= \"X\" in pas\n",
        "    char=\"@\" in pas\n",
        "    if panjang!=True:\n",
        "        print(\"terlalu pendek\")\n",
        "    elif c8!=True:\n",
        "        print(\"harus mengandung 8\")\n",
        "    elif cx!=True:\n",
        "        print(\"harus mengandng X\")\n",
        "    elif char!=True:\n",
        "        print(\"harus mengandng @\")\n",
        "    else:\n",
        "        print(\"password valid\")\n",
        "        break"
      ],
      "metadata": {
        "colab": {
          "base_uri": "https://localhost:8080/"
        },
        "id": "JQmpJWY8F6gU",
        "outputId": "974f670e-ac36-47da-a90c-8f2332bb6998"
      },
      "execution_count": null,
      "outputs": [
        {
          "output_type": "stream",
          "name": "stdout",
          "text": [
            "password= kampusX@8\n",
            "password valid\n"
          ]
        }
      ]
    },
    {
      "cell_type": "code",
      "source": [
        "#password 4 kali percobaan dengan looping for \n",
        "valid = False #nilai awal valid adalah false untuk melihat apa password yang diinput valid atau tidak\n",
        "\n",
        "for _ in range(4): \n",
        "    pas = input(\"password= \")\n",
        "    panjang = len(pas) >= 5\n",
        "    c8 = \"8\" in pas\n",
        "    cx = \"X\" in pas\n",
        "    char = \"@\" in pas\n",
        "    \n",
        "    if not panjang:\n",
        "        print(\"Terlalu pendek\")\n",
        "    elif not c8:\n",
        "        print(\"Harus mengandung 8\")\n",
        "    elif not cx:\n",
        "        print(\"Harus mengandung X\")\n",
        "    elif not char:\n",
        "        print(\"Harus mengandung @\")\n",
        "    else:\n",
        "        print(\"Password valid\")\n",
        "        valid = True\n",
        "        break\n",
        "\n",
        "if not valid:\n",
        "    print(\"Batas percobaan telah mencapai batas maksimal\")"
      ],
      "metadata": {
        "colab": {
          "base_uri": "https://localhost:8080/"
        },
        "id": "Pt_Jf9w7bbIH",
        "outputId": "0b482e5a-832c-40d8-a16b-e1d692dc8cc2"
      },
      "execution_count": 14,
      "outputs": [
        {
          "output_type": "stream",
          "name": "stdout",
          "text": [
            "password= 4a7\n",
            "Terlalu pendek\n",
            "password= 681sh\n",
            "Harus mengandung X\n",
            "password= 7hsso\n",
            "Harus mengandung 8\n",
            "password= 3a8\n",
            "Terlalu pendek\n",
            "Batas percobaan telah mencapai batas maksimal\n"
          ]
        }
      ]
    },
    {
      "cell_type": "code",
      "source": [
        "count=0\n",
        "contoh_list=['acc', 'xyz', 'aba', '1221']\n",
        "for i in range(len(contoh_list)):\n",
        "    if(contoh_list[i][0] == contoh_list[i][-1]): #artinya jika karakter pertama dan karakter terakhir sama\n",
        "        count += 1\n",
        "print('jumlah string yg sama=',count)"
      ],
      "metadata": {
        "colab": {
          "base_uri": "https://localhost:8080/"
        },
        "id": "LOs66iMXqnR0",
        "outputId": "6d21dbe7-0457-4c88-8a9e-d23066e3a5fd"
      },
      "execution_count": 16,
      "outputs": [
        {
          "output_type": "stream",
          "name": "stdout",
          "text": [
            "jumlah string yg sama= 2\n"
          ]
        }
      ]
    },
    {
      "cell_type": "code",
      "source": [
        "while True:\n",
        "    kata=input(\"masukan kata= \")\n",
        "    if kata == kata[::-1]:\n",
        "        print(\"string merupakan palidrom\")\n",
        "        break\n",
        "    else:\n",
        "        print(\"string bukan palidrom\")"
      ],
      "metadata": {
        "colab": {
          "base_uri": "https://localhost:8080/"
        },
        "id": "KIAz0YraGEJe",
        "outputId": "d1298e25-69e0-4e1b-8b16-edcdefca5b65"
      },
      "execution_count": null,
      "outputs": [
        {
          "output_type": "stream",
          "name": "stdout",
          "text": [
            "masukan kata= sayur\n",
            "string bukan palidrom\n",
            "masukan kata= ini\n",
            "string merupakan palidrom\n"
          ]
        }
      ]
    },
    {
      "cell_type": "code",
      "source": [
        "#Fungsi hitung string dengan looping for\n",
        "def count_string(string):\n",
        "    count = 0\n",
        "    for karakter in string:\n",
        "        count += 1\n",
        "    return count\n",
        "\n",
        "string_input = input(\"\")\n",
        "panjang = count_string(string_input)\n",
        "print(\"Jumlah huruf:\", panjang)"
      ],
      "metadata": {
        "id": "3-dN-haskexu",
        "outputId": "1894c24f-ddb3-4e2e-d839-f216f4d36204",
        "colab": {
          "base_uri": "https://localhost:8080/"
        }
      },
      "execution_count": 17,
      "outputs": [
        {
          "output_type": "stream",
          "name": "stdout",
          "text": [
            "aku\n",
            "Jumlah huruf: 3\n"
          ]
        }
      ]
    },
    {
      "cell_type": "code",
      "source": [
        "def hitung(s):\n",
        "    d={'upper':0,'lower':0}\n",
        "    for x in s:\n",
        "        if x.isupper():\n",
        "            d['upper']+=1\n",
        "        elif x.islower():\n",
        "            d['lower']+=1\n",
        "    print('string kalimat:', s)\n",
        "    print('jumlah huruf kapital:',d['upper'])\n",
        "    print('jumlah huruf kecil',d['lower'])\n",
        "hitung('aAsssSWWWJHSJ')"
      ],
      "metadata": {
        "id": "79-V6Hg-GzsE",
        "outputId": "5a15dd35-ecb0-4818-8802-8c11d97fb9ed",
        "colab": {
          "base_uri": "https://localhost:8080/"
        }
      },
      "execution_count": 18,
      "outputs": [
        {
          "output_type": "stream",
          "name": "stdout",
          "text": [
            "string kalimat: aAsssSWWWJHSJ\n",
            "jumlah huruf kapital: 9\n",
            "jumlah huruf kecil 4\n"
          ]
        }
      ]
    },
    {
      "cell_type": "code",
      "source": [
        "def ubah_ke_kapital(text, title=False):\n",
        "    if title:\n",
        "        return text.title()\n",
        "    else:\n",
        "        return text.upper()\n",
        "\n",
        "pilihan = input(\"Pilih upper atau title: \")\n",
        "string = input(\"Masukkan string: \")\n",
        "\n",
        "if pilihan == \"title\":\n",
        "    hasil = ubah_ke_kapital(string, title=True)\n",
        "    print(\"Hasil :\", hasil)\n",
        "elif pilihan == \"upper\":\n",
        "    hasil = ubah_ke_kapital(string)\n",
        "    print(\"Hasil :\", hasil)\n",
        "else:\n",
        "    print(\"Pilihan tidak valid. Pilih upper atau title.\")\n"
      ],
      "metadata": {
        "colab": {
          "base_uri": "https://localhost:8080/"
        },
        "id": "tJdvnmEqpB2w",
        "outputId": "288a8d9c-a439-44c7-afb0-54f202bd2a07"
      },
      "execution_count": 23,
      "outputs": [
        {
          "output_type": "stream",
          "name": "stdout",
          "text": [
            "Pilih upper atau title: title\n",
            "Masukkan string: joko pinurbo \n",
            "Hasil : Joko Pinurbo \n"
          ]
        }
      ]
    },
    {
      "cell_type": "code",
      "source": [
        "#kode menghitung huruf kapital tapi loopingnya diubah jadi while dan stringnya diinputkan sendiri\n",
        "def hitung(s):\n",
        "    d = {'upper': 0, 'lower': 0}\n",
        "    index = 0\n",
        "    while index < len(s):\n",
        "        if s[index].isupper():\n",
        "            d['upper'] += 1\n",
        "        elif s[index].islower():\n",
        "            d['lower'] += 1\n",
        "        index += 1\n",
        "    return d\n",
        "\n",
        "input_string = input(\"\")\n",
        "result = hitung(input_string)\n",
        "\n",
        "print('string kalimat:', input_string)\n",
        "print('jumlah huruf kapital:', result['upper'])\n",
        "print('jumlah huruf kecil:', result['lower'])"
      ],
      "metadata": {
        "colab": {
          "base_uri": "https://localhost:8080/"
        },
        "id": "q06LiBoRWHWk",
        "outputId": "1603f37a-7ad1-4e3f-f0b7-53180b7ba2b1"
      },
      "execution_count": 27,
      "outputs": [
        {
          "output_type": "stream",
          "name": "stdout",
          "text": [
            "KaHliLGibraN\n",
            "string kalimat: KaHliLGibraN\n",
            "jumlah huruf kapital: 5\n",
            "jumlah huruf kecil: 7\n"
          ]
        }
      ]
    },
    {
      "cell_type": "code",
      "source": [
        "#Kata ganjil\n",
        "list1=[\"ada\",\"sapa\",\"warga\",\"kanopi\",\"layang\",\"tamu\",\"kampus\"]\n",
        "for i in list1:\n",
        "    if len(i)%2==1:\n",
        "        print(i,end=\" \")"
      ],
      "metadata": {
        "colab": {
          "base_uri": "https://localhost:8080/"
        },
        "id": "CrkyyQgmGFJR",
        "outputId": "7043161d-952e-4905-9ff3-2278639b036d"
      },
      "execution_count": 28,
      "outputs": [
        {
          "output_type": "stream",
          "name": "stdout",
          "text": [
            "ada warga "
          ]
        }
      ]
    },
    {
      "cell_type": "code",
      "source": [
        "#kata ganjil dengan while\n",
        "list1 = [\"ada\", \"sapa\", \"warga\", \"kanopi\", \"layang\", \"tamu\", \"kampus\"]\n",
        "index = 0\n",
        "\n",
        "while index < len(list1):\n",
        "    if len(list1[index]) % 2 == 1:\n",
        "        print(list1[index], end=\" \")\n",
        "    index += 1"
      ],
      "metadata": {
        "colab": {
          "base_uri": "https://localhost:8080/"
        },
        "id": "-jmFI_oXWWCR",
        "outputId": "0fa25c0c-13ab-43c0-b3fb-ee49ab1ae2e5"
      },
      "execution_count": 29,
      "outputs": [
        {
          "output_type": "stream",
          "name": "stdout",
          "text": [
            "ada warga "
          ]
        }
      ]
    },
    {
      "cell_type": "code",
      "source": [
        "#kata genap\n",
        "list1=[\"ada\",\"sapa\",\"warga\",\"kanopi\",\"layang\",\"tamu\"]\n",
        "for i in list1:\n",
        "    if len(i)%2==0:\n",
        "        print(i,end=\" \")"
      ],
      "metadata": {
        "colab": {
          "base_uri": "https://localhost:8080/"
        },
        "id": "EolCEUTjsQSH",
        "outputId": "689c088a-ac36-4377-9b59-5e1c5eac3b55"
      },
      "execution_count": 30,
      "outputs": [
        {
          "output_type": "stream",
          "name": "stdout",
          "text": [
            "sapa kanopi layang tamu "
          ]
        }
      ]
    },
    {
      "cell_type": "code",
      "source": [
        "#kata genap dengan while\n",
        "list1 = [\"ada\", \"sapa\", \"warga\", \"kanopi\", \"layang\", \"tamu\"]\n",
        "index = 0\n",
        "\n",
        "while index < len(list1):\n",
        "    if len(list1[index]) % 2 == 0:\n",
        "        print(list1[index], end=\" \")\n",
        "    index += 1"
      ],
      "metadata": {
        "colab": {
          "base_uri": "https://localhost:8080/"
        },
        "id": "e95ulp43XP8X",
        "outputId": "44493e69-6e42-4a94-c209-aca546868c2f"
      },
      "execution_count": 31,
      "outputs": [
        {
          "output_type": "stream",
          "name": "stdout",
          "text": [
            "sapa kanopi layang tamu "
          ]
        }
      ]
    },
    {
      "cell_type": "code",
      "source": [
        "import numpy as np\n",
        "\n",
        "A = np.array([[1, 2], [3, 4]])\n",
        "print(\"Matriks A\")\n",
        "print(A)\n",
        "print(\"\\n\")\n",
        "\n",
        "B = np.array([[5, 6], [7, 8]])\n",
        "print(\"Matriks B\")\n",
        "print(B)\n",
        "print(\"\\n\")\n",
        "\n",
        "C = A + B # Penjumlahan matriks A dan B\n",
        "print(\"Penjumlahan A + B:\")\n",
        "print(C)\n",
        "print(\"\\n\")\n",
        "\n",
        "D = A - B # Pengurangan matriks A dan B\n",
        "print(\"Pengurangan A - B:\")\n",
        "print(D)\n",
        "print(\"\\n\")\n",
        "\n",
        "E = np.matmul(A, B) # Perkalian matriks A dan B\n",
        "print(\"Perkalian A * B:\")\n",
        "print(E)\n",
        "print(\"\\n\")\n",
        "\n",
        "F = np.transpose(A) # Transpose matriks A\n",
        "print(\"Transpose A:\")\n",
        "print(F)\n",
        "print(\"\\n\")\n",
        "\n",
        "G = np.linalg.inv(A)# Invers matriks A\n",
        "print(\"Invers A:\")\n",
        "print(G)\n",
        "print(\"\\n\")\n",
        "\n",
        "det_A = np.linalg.det(A) # Determinan matriks A\n",
        "print(\"Determinan A:\", det_A)\n",
        "print(\"\\n\")"
      ],
      "metadata": {
        "colab": {
          "base_uri": "https://localhost:8080/"
        },
        "id": "Gmx---PHOn9m",
        "outputId": "37a68169-c6f2-4311-f2a8-45ab28d59059"
      },
      "execution_count": 32,
      "outputs": [
        {
          "output_type": "stream",
          "name": "stdout",
          "text": [
            "Matriks A\n",
            "[[1 2]\n",
            " [3 4]]\n",
            "\n",
            "\n",
            "Matriks B\n",
            "[[5 6]\n",
            " [7 8]]\n",
            "\n",
            "\n",
            "Penjumlahan A + B:\n",
            "[[ 6  8]\n",
            " [10 12]]\n",
            "\n",
            "\n",
            "Pengurangan A - B:\n",
            "[[-4 -4]\n",
            " [-4 -4]]\n",
            "\n",
            "\n",
            "Perkalian A * B:\n",
            "[[19 22]\n",
            " [43 50]]\n",
            "\n",
            "\n",
            "Transpose A:\n",
            "[[1 3]\n",
            " [2 4]]\n",
            "\n",
            "\n",
            "Invers A:\n",
            "[[-2.   1. ]\n",
            " [ 1.5 -0.5]]\n",
            "\n",
            "\n",
            "Determinan A: -2.0000000000000004\n",
            "\n",
            "\n"
          ]
        }
      ]
    }
  ]
}